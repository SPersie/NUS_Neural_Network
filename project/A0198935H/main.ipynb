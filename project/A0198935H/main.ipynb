{
  "nbformat": 4,
  "nbformat_minor": 0,
  "metadata": {
    "kernelspec": {
      "name": "python3",
      "display_name": "Python 3"
    },
    "colab": {
      "name": "main.ipynb",
      "provenance": [],
      "collapsed_sections": [],
      "machine_shape": "hm"
    },
    "accelerator": "GPU"
  },
  "cells": [
    {
      "cell_type": "code",
      "metadata": {
        "id": "S6tVct-0MzXs",
        "colab_type": "code",
        "colab": {}
      },
      "source": [
        "from read_datasetBreakfast import load_data, read_mapping_dict\n",
        "import os\n",
        "\n",
        "COMP_PATH = ''\n",
        "\n",
        "''' \n",
        "training to load train set\n",
        "test to load test set\n",
        "'''\n",
        "split = 'test'\n",
        "#split = 'test'\n",
        "train_split =  os.path.join(COMP_PATH, 'splits/train.split1.bundle') #Train Split\n",
        "test_split  =  os.path.join(COMP_PATH, 'splits/test.split1.bundle') #Test Split\n",
        "GT_folder   =  os.path.join(COMP_PATH, 'groundTruth/') #Ground Truth Labels for each training video \n",
        "DATA_folder =  os.path.join(COMP_PATH, 'data/') #Frame I3D features for all videos\n",
        "mapping_loc =  os.path.join(COMP_PATH, 'splits/mapping_bf.txt') \n",
        "\n",
        "actions_dict = read_mapping_dict(mapping_loc)\n",
        "if  split == 'training':\n",
        "    data_feat, data_labels = load_data( train_split, actions_dict, GT_folder, DATA_folder, datatype = split) #Get features and labels\n",
        "if  split == 'test':\n",
        "    data_feat_test = load_data( test_split, actions_dict, GT_folder, DATA_folder, datatype = split) #Get features only"
      ],
      "execution_count": 0,
      "outputs": []
    },
    {
      "cell_type": "code",
      "metadata": {
        "id": "tVEPKse7MzXw",
        "colab_type": "code",
        "outputId": "577891ef-74d7-4582-9740-d2be485f5b2b",
        "colab": {}
      },
      "source": [
        "import pickle\n",
        "print('saving first')\n",
        "# saving data for future use\n",
        "file1 = open('data_feat', 'wb')\n",
        "pickle.dump(data_feat, file1)\n",
        "file1.close()\n",
        "\n",
        "file = open('data_labels', 'wb')\n",
        "pickle.dump(data_labels, file)\n",
        "file.close()"
      ],
      "execution_count": 0,
      "outputs": [
        {
          "output_type": "stream",
          "text": [
            "saving first\n"
          ],
          "name": "stdout"
        }
      ]
    },
    {
      "cell_type": "code",
      "metadata": {
        "id": "HigNBBBUMzXz",
        "colab_type": "code",
        "colab": {}
      },
      "source": [
        "file = open('data_feat_test', 'wb')\n",
        "pickle.dump(data_feat_test, file)\n",
        "file.close()"
      ],
      "execution_count": 0,
      "outputs": []
    },
    {
      "cell_type": "code",
      "metadata": {
        "id": "sGjDITtdMzX1",
        "colab_type": "code",
        "colab": {}
      },
      "source": [
        "# load data\n",
        "import pickle\n",
        "file = open('drive/My Drive/Colab Notebooks/data_feat', 'rb')\n",
        "data_feat = pickle.load(file)\n",
        "file = open('drive/My Drive/Colab Notebooks/data_labels', 'rb')\n",
        "data_labels = pickle.load(file)\n",
        "file = open('drive/My Drive/Colab Notebooks/data_feat_test', 'rb')\n",
        "data_test = pickle.load(file)\n",
        "\n",
        "# read segmentation file and convert from string to integer\n",
        "with open('drive/My Drive/Colab Notebooks/training_segment.txt', 'r') as file:\n",
        "    train_seg = file.readlines()\n",
        "train_seg = [train_seg[i].split() for i in range(len(train_seg))]\n",
        "\n",
        "for i in range(len(train_seg)):\n",
        "    for j in range(len(train_seg[i])):\n",
        "        train_seg[i][j] = int(train_seg[i][j])\n",
        "        \n",
        "with open('drive/My Drive/Colab Notebooks/test_segment.txt', 'r') as file:\n",
        "    test_seg = file.readlines()\n",
        "test_seg = [test_seg[i].split() for i in range(len(test_seg))]\n",
        "\n",
        "for i in range(len(test_seg)):\n",
        "    for j in range(len(test_seg[i])):\n",
        "        test_seg[i][j] = int(test_seg[i][j])\n",
        "        \n",
        "num_train = len(data_feat)\n",
        "num_test = len(data_test)\n",
        "\n",
        "# data_feat\n",
        "# data_labels\n",
        "# data_test\n",
        "# train_seg\n",
        "# test_seg"
      ],
      "execution_count": 0,
      "outputs": []
    },
    {
      "cell_type": "code",
      "metadata": {
        "id": "uFSRdN8lScyp",
        "colab_type": "code",
        "outputId": "3420a4c7-dd5e-4e86-fc44-8c1584906242",
        "colab": {
          "base_uri": "https://localhost:8080/",
          "height": 127
        }
      },
      "source": [
        "from google.colab import drive\n",
        "drive.mount('/content/drive')"
      ],
      "execution_count": 1,
      "outputs": [
        {
          "output_type": "stream",
          "text": [
            "Go to this URL in a browser: https://accounts.google.com/o/oauth2/auth?client_id=947318989803-6bn6qk8qdgf4n4g3pfee6491hc0brc4i.apps.googleusercontent.com&redirect_uri=urn%3aietf%3awg%3aoauth%3a2.0%3aoob&response_type=code&scope=email%20https%3a%2f%2fwww.googleapis.com%2fauth%2fdocs.test%20https%3a%2f%2fwww.googleapis.com%2fauth%2fdrive%20https%3a%2f%2fwww.googleapis.com%2fauth%2fdrive.photos.readonly%20https%3a%2f%2fwww.googleapis.com%2fauth%2fpeopleapi.readonly\n",
            "\n",
            "Enter your authorization code:\n",
            "··········\n",
            "Mounted at /content/drive\n"
          ],
          "name": "stdout"
        }
      ]
    },
    {
      "cell_type": "code",
      "metadata": {
        "id": "zzfcvinSMzX4",
        "colab_type": "code",
        "outputId": "7d4b39cd-c6ea-4fd3-9076-d2bf133a31f1",
        "colab": {
          "base_uri": "https://localhost:8080/",
          "height": 107
        }
      },
      "source": [
        "print(num_train)\n",
        "print(data_feat[0].shape)\n",
        "print(data_labels[0])\n",
        "print(len(train_seg))\n",
        "print(train_seg[0])\n",
        "# import torch\n",
        "# from platform import python_version\n",
        "# print(python_version())\n",
        "# print(torch.version.cuda)\n",
        "# torch.__version__"
      ],
      "execution_count": 3,
      "outputs": [
        {
          "output_type": "stream",
          "text": [
            "1460\n",
            "torch.Size([544, 400])\n",
            "[1, 2]\n",
            "1460\n",
            "[9, 269, 474]\n"
          ],
          "name": "stdout"
        }
      ]
    },
    {
      "cell_type": "code",
      "metadata": {
        "id": "ng6_5RusMzX6",
        "colab_type": "code",
        "colab": {}
      },
      "source": [
        "import torch\n",
        "import numpy as np\n",
        "\n",
        "one_seg_x = []\n",
        "one_seg_y = []\n",
        "data_label = []\n",
        "# len(train) = len(train_seg)\n",
        "for i in range(len(train_seg)):\n",
        "    tmp = []\n",
        "    for j in range(1, len(train_seg[i])):\n",
        "        one_seg_x.append(data_feat[i][train_seg[i][j-1]:train_seg[i][j]])\n",
        "        yy = [data_labels[i][j-1]] * (train_seg[i][j]-train_seg[i][j-1])\n",
        "        one_seg_y.append(torch.Tensor(yy))\n",
        "        tmp += yy\n",
        "    data_label.append(torch.Tensor(tmp))\n",
        "\n",
        "full_feat = []\n",
        "for i in range(num_train):\n",
        "    full_feat.append(data_feat[i][train_seg[i][0]:train_seg[i][-1]])\n",
        "\n",
        "full_test = []\n",
        "for i in range(num_test):\n",
        "    full_test.append(data_test[i][test_seg[i][0]:test_seg[i][-1]])\n",
        "\n",
        "one_seg_test = []\n",
        "for i in range(num_test):\n",
        "    for j in range(1, len(test_seg[i])):\n",
        "        one_seg_test.append(data_test[i][test_seg[i][j-1]:test_seg[i][j]])"
      ],
      "execution_count": 0,
      "outputs": []
    },
    {
      "cell_type": "code",
      "metadata": {
        "id": "ilL_tIFeQcRr",
        "colab_type": "code",
        "colab": {}
      },
      "source": [
        "import torch\n",
        "import numpy as np\n",
        "def truncate_segment(data,segment,labels=None,first_n_frame = 60, add_stats='Yes'):\n",
        "    raw_data = []\n",
        "    truncated_data = []\n",
        "    data_length = []\n",
        "    data_label = []\n",
        "    for i in range(len(data)):\n",
        "        video = []\n",
        "        tmp = []\n",
        "        seg_tmp = [0]\n",
        "        # print(str(i)+':')\n",
        "        for j in range(len(segment[i])-1):\n",
        "            # print(j)\n",
        "            seg_start = segment[i][j]\n",
        "            seg_end = segment[i][j+1]-1\n",
        "            segment_length = seg_end - seg_start\n",
        "            # raw_data.append(data[i][seg_start:seg_end])\n",
        "            # data_length.append(segment_length)\n",
        "            if segment_length < first_n_frame:\n",
        "                this_segment = data[i][seg_start:seg_end]\n",
        "                n_segment_frame = segment_length\n",
        "                # this_segment = torch.zeros(first_n_frame,400)\n",
        "                #this_segment[0:segment_length] =data[i][seg_start:seg_end]\n",
        "            else:\n",
        "                interval = segment_length//(first_n_frame-2)-1\n",
        "                this_segment = data[i][seg_start]\n",
        "                this_segment = torch.unsqueeze(this_segment,dim=0)\n",
        "                for k in range(1,first_n_frame-1):\n",
        "                    this_segment = torch.cat((this_segment, torch.unsqueeze(data[i][seg_start+interval*k],dim=0)),dim=0)\n",
        "                this_segment = torch.cat((this_segment, torch.unsqueeze(data[i][seg_end],dim=0)),dim=0)\n",
        "                n_segment_frame = first_n_frame\n",
        "            \n",
        "            this_segment = this_segment.float()\n",
        "            if add_stats == 'Yes':\n",
        "                max_tensor, max_inds = data[i][seg_start:seg_end].max(dim=0)\n",
        "                min_tensor, min_inds = data[i][seg_start:seg_end].min(dim=0)\n",
        "                mean_tensor = data[i][seg_start:seg_end].mean(dim=0)\n",
        "                max_tensor = torch.unsqueeze(max_tensor,dim=0).float()\n",
        "                min_tensor = torch.unsqueeze(min_tensor,dim=0).float()\n",
        "                mean_tensor = torch.unsqueeze(mean_tensor,dim=0).float()\n",
        "                this_segment = torch.cat((this_segment.float(),max_tensor,min_tensor,mean_tensor),dim=0)\t\n",
        "                n_segment_frame += 3\n",
        "            video.append(this_segment)\n",
        "            if labels != None:\n",
        "                tmp += [labels[i][j]]*n_segment_frame\n",
        "            seg_tmp.append(seg_tmp[j]+n_segment_frame)\n",
        "        \n",
        "        truncated_data.append(torch.cat(video,dim=0))\n",
        "        if labels != None:\n",
        "            data_label.append(torch.Tensor(tmp).long())\n",
        "        data_length.append(seg_tmp)\n",
        "\n",
        "    return truncated_data, data_length, data_label\n",
        "        \t\n",
        "train_data_truncated, train_data_length, train_data_labels = truncate_segment(data_feat,train_seg,data_labels)\n",
        "test_data_truncated, test_data_length, c = truncate_segment(data_test,test_seg,labels = None)\n",
        "\n",
        "full_feat = train_data_truncated\n",
        "data_label = train_data_labels\n",
        "one_seg_test = test_data_truncated\n"
      ],
      "execution_count": 0,
      "outputs": []
    },
    {
      "cell_type": "code",
      "metadata": {
        "id": "1UK4UQJxbo-5",
        "colab_type": "code",
        "colab": {
          "base_uri": "https://localhost:8080/",
          "height": 35
        },
        "outputId": "70625a14-d90f-4f66-aabd-6d892e025568"
      },
      "source": [
        "print(full_feat[0].shape)"
      ],
      "execution_count": 59,
      "outputs": [
        {
          "output_type": "stream",
          "text": [
            "torch.Size([385, 400])\n"
          ],
          "name": "stdout"
        }
      ]
    },
    {
      "cell_type": "code",
      "metadata": {
        "id": "MlUo4SclMzX9",
        "colab_type": "code",
        "colab": {}
      },
      "source": [
        "from sklearn.model_selection import train_test_split\n",
        "X_train, X_test, y_train, y_test = train_test_split(full_feat, data_label, test_size=0.2, random_state=7)"
      ],
      "execution_count": 0,
      "outputs": []
    },
    {
      "cell_type": "code",
      "metadata": {
        "id": "2bvpA8UZCs3-",
        "colab_type": "code",
        "colab": {}
      },
      "source": [
        "def cal_acc(pred, label):\n",
        "    correct = 0\n",
        "    v = label[0]\n",
        "    cur = 0\n",
        "    num = 1\n",
        "    for i in range(len(label)):\n",
        "        if label[i] == v:\n",
        "            continue\n",
        "        else:\n",
        "            tmp = pred[cur:i]\n",
        "            correct += torch.bincount(tmp).argmax() == v\n",
        "            cur = i\n",
        "            v = label[i]\n",
        "            num += 1\n",
        "    tmp = pred[cur:]\n",
        "    correct += torch.bincount(tmp).argmax() == label[-1]\n",
        "            \n",
        "    return correct.item(), num"
      ],
      "execution_count": 0,
      "outputs": []
    },
    {
      "cell_type": "code",
      "metadata": {
        "id": "HE8FPe-YMzYA",
        "colab_type": "code",
        "colab": {}
      },
      "source": [
        "# Build Model\n",
        "import torch\n",
        "import torch.nn as nn\n",
        "import torch.nn.functional as F\n",
        "import torch.optim as optim\n",
        "\n",
        "device = torch.device('cuda')\n",
        "\n",
        "# torch.manual_seed(1)\n",
        "\n",
        "class MyModel(nn.Module):\n",
        "    def __init__(self, feature_size, hidden_size, output_size, num_layers):\n",
        "        super(MyModel, self).__init__()\n",
        "        self.lstm = nn.LSTM(feature_size, hidden_size, num_layers, batch_first=True, bidirectional=True, dropout=0.3)\n",
        "        self.linear1 = nn.Linear(hidden_size*2, 128)\n",
        "        self.norm = torch.nn.LayerNorm(hidden_size*2)\n",
        "        # self.linear2 = nn.Linear(256, 128)\n",
        "        self.linear3 = nn.Linear(128, output_size)\n",
        "    def forward(self, data_feature):\n",
        "        output, _ = self.lstm(data_feature)\n",
        "        # combined = torch.cat((output, data_feature), dim=2)\n",
        "        o = self.norm(output)\n",
        "        o = self.linear1(o)\n",
        "        # o = self.linear2(o)\n",
        "        o = self.linear3(o)\n",
        "        return o"
      ],
      "execution_count": 0,
      "outputs": []
    },
    {
      "cell_type": "code",
      "metadata": {
        "id": "PoFAx0DtMzYC",
        "colab_type": "code",
        "colab": {}
      },
      "source": [
        "def train(model, xtrain, ytrain, batch):\n",
        "    correct = 0\n",
        "    num = 0\n",
        "    total_loss = 0\n",
        "    model.train()\n",
        "    for i in range(len(xtrain)):\n",
        "        x = xtrain[i].float().to(device)\n",
        "        y = ytrain[i].long()-1\n",
        "        y = y.to(device)\n",
        "        x = torch.unsqueeze(x, 0)\n",
        "        out = model(x)\n",
        "        out = torch.squeeze(out, 0)\n",
        "        pred = torch.argmax(out, dim=1)\n",
        "        # correct += (torch.bincount(pred).argmax() == y[0]).item()\n",
        "        # acc = correct / (i+1)\n",
        "        # a, b = cal_acc(pred, y)\n",
        "        # correct += a\n",
        "        # num += b\n",
        "        correct += torch.sum(pred == y).item()\n",
        "        num += len(y)\n",
        "        loss = compare(out, y)\n",
        "        total_loss += loss.item()\n",
        "        avg_loss = total_loss / (i+1)\n",
        "#         print(loss.item())\n",
        "        model.zero_grad()\n",
        "        loss.backward()\n",
        "        optimizer.step()\n",
        "        if (i+1) % print_iter == 0:\n",
        "            print('Batch: {} Iteration: {} Loss: {}, Acc: {}'.format(batch, i+1, avg_loss, correct/num))\n",
        "    train_acc = correct / num\n",
        "    train_err = total_loss / len(xtrain)\n",
        "    return train_acc, train_err"
      ],
      "execution_count": 0,
      "outputs": []
    },
    {
      "cell_type": "code",
      "metadata": {
        "id": "O02bKHMRMzYE",
        "colab_type": "code",
        "colab": {}
      },
      "source": [
        "def validate(model_trained, X_test, y_test):\n",
        "    model_trained.eval()\n",
        "    correct = 0\n",
        "    num = 0\n",
        "    total_loss = 0\n",
        "    for i in range(len(X_test)):\n",
        "        x = X_test[i].float().to(device)\n",
        "        y = y_test[i].long()-1\n",
        "        y = y.to(device)\n",
        "        x = torch.unsqueeze(x, 0)\n",
        "        out = model(x)\n",
        "        out = torch.squeeze(out, 0)\n",
        "        pred = torch.argmax(out, dim=1)\n",
        "        # a, b = cal_acc(pred, y)\n",
        "        # correct += a\n",
        "        # num += b\n",
        "        correct += torch.sum(pred == y).item()\n",
        "        num += len(y)\n",
        "        loss = compare(out, y)\n",
        "        total_loss += loss.item()\n",
        "    return correct / num, total_loss / (len(X_test))"
      ],
      "execution_count": 0,
      "outputs": []
    },
    {
      "cell_type": "code",
      "metadata": {
        "id": "GfqYpTP4MzYG",
        "colab_type": "code",
        "outputId": "86e53e6e-81cd-4fdb-859b-f797e0b64a48",
        "colab": {
          "base_uri": "https://localhost:8080/",
          "height": 1000
        }
      },
      "source": [
        "print_iter = 100\n",
        "model = MyModel(400, 200, 47, 3).to(device)\n",
        "compare = nn.CrossEntropyLoss()\n",
        "param = model.parameters()\n",
        "optimizer = torch.optim.Adam(param, lr = 0.0001)\n",
        "batch = 30\n",
        "\n",
        "best_val = 0\n",
        "tacc = []\n",
        "tl = []\n",
        "vacc = []\n",
        "vl = []\n",
        "for b in range(batch):\n",
        "    acc, loss = train(model, X_train, y_train, b)\n",
        "    tacc.append(acc)\n",
        "    tl.append(loss)\n",
        "    val_score, vloss = validate(model, X_test, y_test)\n",
        "    vacc.append(val_score)\n",
        "    vl.append(vloss)\n",
        "    print('Validation Acc: ', val_score)\n",
        "    print(tacc, tl, vacc, vl)\n",
        "    if val_score > best_val:\n",
        "        best_val = val_score\n",
        "        torch.save(model.state_dict(), 'drive/My Drive/Colab Notebooks/best_model')"
      ],
      "execution_count": 65,
      "outputs": [
        {
          "output_type": "stream",
          "text": [
            "Batch: 0 Iteration: 100 Loss: 3.536044034957886, Acc: 0.08988271771366946\n",
            "Batch: 0 Iteration: 200 Loss: 3.304328444004059, Acc: 0.1166622975407905\n",
            "Batch: 0 Iteration: 300 Loss: 3.1685609757900237, Acc: 0.1431546743018205\n",
            "Batch: 0 Iteration: 400 Loss: 3.05218000292778, Acc: 0.1729099592099823\n",
            "Batch: 0 Iteration: 500 Loss: 2.9748231341838838, Acc: 0.1848886855748704\n",
            "Batch: 0 Iteration: 600 Loss: 2.882560446659724, Acc: 0.20892940915946093\n",
            "Batch: 0 Iteration: 700 Loss: 2.817133662189756, Acc: 0.2120365885193778\n",
            "Batch: 0 Iteration: 800 Loss: 2.7645564084500074, Acc: 0.21270103865728385\n",
            "Batch: 0 Iteration: 900 Loss: 2.703455931544304, Acc: 0.21982095347666641\n",
            "Batch: 0 Iteration: 1000 Loss: 2.652508484363556, Acc: 0.2303726959306874\n",
            "Batch: 0 Iteration: 1100 Loss: 2.611957993561571, Acc: 0.23233568333469595\n",
            "Validation Acc:  0.3171160944783171\n",
            "[0.2396623883482522] [2.5912630836134904] [0.3171160944783171] [2.0804858059711653]\n",
            "Batch: 1 Iteration: 100 Loss: 2.085034744143486, Acc: 0.3398153141008358\n",
            "Batch: 1 Iteration: 200 Loss: 2.0197878363728523, Acc: 0.325258746271034\n",
            "Batch: 1 Iteration: 300 Loss: 1.9982300923268, Acc: 0.3351640755309375\n",
            "Batch: 1 Iteration: 400 Loss: 1.9194840390607715, Acc: 0.3619568791241703\n",
            "Batch: 1 Iteration: 500 Loss: 1.9123540772497654, Acc: 0.37078758767917047\n",
            "Batch: 1 Iteration: 600 Loss: 1.885791441872716, Acc: 0.3833531515098722\n",
            "Batch: 1 Iteration: 700 Loss: 1.8689541610862528, Acc: 0.3824066621261841\n",
            "Batch: 1 Iteration: 800 Loss: 1.8491838389076292, Acc: 0.38398454849580094\n",
            "Batch: 1 Iteration: 900 Loss: 1.8268610369000169, Acc: 0.38706550657942046\n",
            "Batch: 1 Iteration: 1000 Loss: 1.7986654669344426, Acc: 0.3957001695282752\n",
            "Batch: 1 Iteration: 1100 Loss: 1.7758464483510363, Acc: 0.39537024384861275\n",
            "Validation Acc:  0.41244152285188473\n",
            "[0.2396623883482522, 0.39912948671902393] [2.5912630836134904, 1.7660571828943818] [0.3171160944783171, 0.41244152285188473] [2.0804858059711653, 1.647256948615182]\n",
            "Batch: 2 Iteration: 100 Loss: 1.4864944842457772, Acc: 0.4497303855486654\n",
            "Batch: 2 Iteration: 200 Loss: 1.4756228232383728, Acc: 0.4459594434507909\n",
            "Batch: 2 Iteration: 300 Loss: 1.4944357366859913, Acc: 0.44299724385218486\n",
            "Batch: 2 Iteration: 400 Loss: 1.4499273903295398, Acc: 0.46226841980187705\n",
            "Batch: 2 Iteration: 500 Loss: 1.451954434543848, Acc: 0.47133145267866217\n",
            "Batch: 2 Iteration: 600 Loss: 1.4399661614497503, Acc: 0.4827151566545519\n",
            "Batch: 2 Iteration: 700 Loss: 1.423386152535677, Acc: 0.4822739076436717\n",
            "Batch: 2 Iteration: 800 Loss: 1.4146311200782657, Acc: 0.48205514785280323\n",
            "Batch: 2 Iteration: 900 Loss: 1.4039600139525201, Acc: 0.4826044438052779\n",
            "Batch: 2 Iteration: 1000 Loss: 1.3848652243018151, Acc: 0.48746479784038477\n",
            "Batch: 2 Iteration: 1100 Loss: 1.3728408722918142, Acc: 0.48477854319735497\n",
            "Validation Acc:  0.46552574900517374\n",
            "[0.2396623883482522, 0.39912948671902393, 0.4860566537034649] [2.5912630836134904, 1.7660571828943818, 1.3674436973675779] [0.3171160944783171, 0.41244152285188473, 0.46552574900517374] [2.0804858059711653, 1.647256948615182, 1.4874171820430928]\n",
            "Batch: 3 Iteration: 100 Loss: 1.1754824383556843, Acc: 0.5273186842814774\n",
            "Batch: 3 Iteration: 200 Loss: 1.1817429923266172, Acc: 0.5177480529737155\n",
            "Batch: 3 Iteration: 300 Loss: 1.1949630711972714, Acc: 0.5179105010123715\n",
            "Batch: 3 Iteration: 400 Loss: 1.144633132480085, Acc: 0.5365905665352575\n",
            "Batch: 3 Iteration: 500 Loss: 1.1477319137454034, Acc: 0.549811934532886\n",
            "Batch: 3 Iteration: 600 Loss: 1.1384814099532863, Acc: 0.5599010945300783\n",
            "Batch: 3 Iteration: 700 Loss: 1.1371591561926262, Acc: 0.5540796963946869\n",
            "Batch: 3 Iteration: 800 Loss: 1.1377625932823867, Acc: 0.5549591912408878\n",
            "Batch: 3 Iteration: 900 Loss: 1.1288496703654527, Acc: 0.5536830373193355\n",
            "Batch: 3 Iteration: 1000 Loss: 1.1132626255229114, Acc: 0.5551987614418906\n",
            "Batch: 3 Iteration: 1100 Loss: 1.10445509520444, Acc: 0.5521077688403655\n",
            "Validation Acc:  0.48516390543697174\n",
            "[0.2396623883482522, 0.39912948671902393, 0.4860566537034649, 0.5531334961105066] [2.5912630836134904, 1.7660571828943818, 1.3674436973675779, 1.100657033128026] [0.3171160944783171, 0.41244152285188473, 0.46552574900517374, 0.48516390543697174] [2.0804858059711653, 1.647256948615182, 1.4874171820430928, 1.3929380772967044]\n",
            "Batch: 4 Iteration: 100 Loss: 0.9789641285687685, Acc: 0.6167160959827447\n",
            "Batch: 4 Iteration: 200 Loss: 0.9746824903041125, Acc: 0.5948625716343074\n",
            "Batch: 4 Iteration: 300 Loss: 0.9942641697824002, Acc: 0.5884665471443989\n",
            "Batch: 4 Iteration: 400 Loss: 0.942463534316048, Acc: 0.6017097300306332\n",
            "Batch: 4 Iteration: 500 Loss: 0.9271392710879445, Acc: 0.615878824844973\n",
            "Batch: 4 Iteration: 600 Loss: 0.9231342298847933, Acc: 0.622687806521422\n",
            "Batch: 4 Iteration: 700 Loss: 0.9244053688658668, Acc: 0.6188307407663703\n",
            "Batch: 4 Iteration: 800 Loss: 0.9296140617097263, Acc: 0.6155460387184053\n",
            "Batch: 4 Iteration: 900 Loss: 0.927829311867762, Acc: 0.6152944560293377\n",
            "Batch: 4 Iteration: 1000 Loss: 0.9206565684722736, Acc: 0.6130830942143563\n",
            "Batch: 4 Iteration: 1100 Loss: 0.9166165571431206, Acc: 0.6066982757191365\n",
            "Validation Acc:  0.5100541515863217\n",
            "[0.2396623883482522, 0.39912948671902393, 0.4860566537034649, 0.5531334961105066, 0.6053237940652053] [2.5912630836134904, 1.7660571828943818, 1.3674436973675779, 1.100657033128026, 0.9151818058046844] [0.3171160944783171, 0.41244152285188473, 0.46552574900517374, 0.48516390543697174, 0.5100541515863217] [2.0804858059711653, 1.647256948615182, 1.4874171820430928, 1.3929380772967044, 1.3154117112775168]\n",
            "Batch: 5 Iteration: 100 Loss: 0.8256590441986918, Acc: 0.6581086546238878\n",
            "Batch: 5 Iteration: 200 Loss: 0.8069408913701772, Acc: 0.647696917609347\n",
            "Batch: 5 Iteration: 300 Loss: 0.81223429924498, Acc: 0.6471997003023735\n",
            "Batch: 5 Iteration: 400 Loss: 0.7829929859051481, Acc: 0.6517515617726242\n",
            "Batch: 5 Iteration: 500 Loss: 0.7738843730725348, Acc: 0.6637821490291755\n",
            "Batch: 5 Iteration: 600 Loss: 0.7635397265199572, Acc: 0.6734156915878925\n",
            "Batch: 5 Iteration: 700 Loss: 0.7619308881588014, Acc: 0.6683168406982631\n",
            "Batch: 5 Iteration: 800 Loss: 0.7661011512036202, Acc: 0.6689710814015557\n",
            "Batch: 5 Iteration: 900 Loss: 0.7619133571219734, Acc: 0.6670295534622852\n",
            "Batch: 5 Iteration: 1000 Loss: 0.754428596708458, Acc: 0.6673942730635167\n",
            "Batch: 5 Iteration: 1100 Loss: 0.7512421482983469, Acc: 0.6627815699366009\n",
            "Validation Acc:  0.5569650545433753\n",
            "[0.2396623883482522, 0.39912948671902393, 0.4860566537034649, 0.5531334961105066, 0.6053237940652053, 0.6618075087099288] [2.5912630836134904, 1.7660571828943818, 1.3674436973675779, 1.100657033128026, 0.9151818058046844, 0.7505951292875817] [0.3171160944783171, 0.41244152285188473, 0.46552574900517374, 0.48516390543697174, 0.5100541515863217, 0.5569650545433753] [2.0804858059711653, 1.647256948615182, 1.4874171820430928, 1.3929380772967044, 1.3154117112775168, 1.1760504104145995]\n",
            "Batch: 6 Iteration: 100 Loss: 0.7015288902074098, Acc: 0.6604475599892154\n",
            "Batch: 6 Iteration: 200 Loss: 0.6640931035764516, Acc: 0.6796025975835969\n",
            "Batch: 6 Iteration: 300 Loss: 0.666983735995988, Acc: 0.6789734464335091\n",
            "Batch: 6 Iteration: 400 Loss: 0.6558685707021504, Acc: 0.6848930442114309\n",
            "Batch: 6 Iteration: 500 Loss: 0.6391052148416638, Acc: 0.6992922130730914\n",
            "Batch: 6 Iteration: 600 Loss: 0.6275280581399177, Acc: 0.7115652441308986\n",
            "Batch: 6 Iteration: 700 Loss: 0.624019232541988, Acc: 0.7073200712394425\n",
            "Batch: 6 Iteration: 800 Loss: 0.6295334768207976, Acc: 0.7087049178323886\n",
            "Batch: 6 Iteration: 900 Loss: 0.6272544552722118, Acc: 0.7091184295678435\n",
            "Batch: 6 Iteration: 1000 Loss: 0.62819107329892, Acc: 0.7094707598594576\n",
            "Batch: 6 Iteration: 1100 Loss: 0.6285859071484513, Acc: 0.7038941110082633\n",
            "Validation Acc:  0.5995239234804413\n",
            "[0.2396623883482522, 0.39912948671902393, 0.4860566537034649, 0.5531334961105066, 0.6053237940652053, 0.6618075087099288, 0.7041821512804581] [2.5912630836134904, 1.7660571828943818, 1.3674436973675779, 1.100657033128026, 0.9151818058046844, 0.7505951292875817, 0.6259961534847269] [0.3171160944783171, 0.41244152285188473, 0.46552574900517374, 0.48516390543697174, 0.5100541515863217, 0.5569650545433753, 0.5995239234804413] [2.0804858059711653, 1.647256948615182, 1.4874171820430928, 1.3929380772967044, 1.3154117112775168, 1.1760504104145995, 1.1228540752653977]\n",
            "Batch: 7 Iteration: 100 Loss: 0.5543325970787555, Acc: 0.7420463736856295\n",
            "Batch: 7 Iteration: 200 Loss: 0.5612334789102897, Acc: 0.7306019106906426\n",
            "Batch: 7 Iteration: 300 Loss: 0.570720175052993, Acc: 0.7213168856421646\n",
            "Batch: 7 Iteration: 400 Loss: 0.5624694832356181, Acc: 0.7254112369499615\n",
            "Batch: 7 Iteration: 500 Loss: 0.5489331709044054, Acc: 0.7382560740063028\n",
            "Batch: 7 Iteration: 600 Loss: 0.5467971097165719, Acc: 0.7432834223139724\n",
            "Batch: 7 Iteration: 700 Loss: 0.5595637439277822, Acc: 0.7407263072401272\n",
            "Batch: 7 Iteration: 800 Loss: 0.5728416995360749, Acc: 0.7400700044414925\n",
            "Batch: 7 Iteration: 900 Loss: 0.5794837949802685, Acc: 0.7374164090026605\n",
            "Batch: 7 Iteration: 1000 Loss: 0.576794995775912, Acc: 0.7380116121162632\n",
            "Batch: 7 Iteration: 1100 Loss: 0.5788851986749267, Acc: 0.733030049563284\n",
            "Validation Acc:  0.6171205418123522\n",
            "[0.2396623883482522, 0.39912948671902393, 0.4860566537034649, 0.5531334961105066, 0.6053237940652053, 0.6618075087099288, 0.7041821512804581, 0.7319068482580675] [2.5912630836134904, 1.7660571828943818, 1.3674436973675779, 1.100657033128026, 0.9151818058046844, 0.7505951292875817, 0.6259961534847269, 0.5766841898144427] [0.3171160944783171, 0.41244152285188473, 0.46552574900517374, 0.48516390543697174, 0.5100541515863217, 0.5569650545433753, 0.5995239234804413, 0.6171205418123522] [2.0804858059711653, 1.647256948615182, 1.4874171820430928, 1.3929380772967044, 1.3154117112775168, 1.1760504104145995, 1.1228540752653977, 1.137462615676556]\n",
            "Batch: 8 Iteration: 100 Loss: 0.5395417948439717, Acc: 0.7624696683742248\n",
            "Batch: 8 Iteration: 200 Loss: 0.5858263424877077, Acc: 0.7480861569500625\n",
            "Batch: 8 Iteration: 300 Loss: 0.5904973516302804, Acc: 0.7333739173869221\n",
            "Batch: 8 Iteration: 400 Loss: 0.5685115889366716, Acc: 0.7337889792078338\n",
            "Batch: 8 Iteration: 500 Loss: 0.5626343616247177, Acc: 0.7395255159093219\n",
            "Batch: 8 Iteration: 600 Loss: 0.5430392238528778, Acc: 0.7515577296660786\n",
            "Batch: 8 Iteration: 700 Loss: 0.529094189984857, Acc: 0.7527279316159626\n",
            "Batch: 8 Iteration: 800 Loss: 0.5236998860814492, Acc: 0.7571978664536924\n",
            "Batch: 8 Iteration: 900 Loss: 0.5209554002120987, Acc: 0.7590947005105343\n",
            "Batch: 8 Iteration: 1000 Loss: 0.5148798256327863, Acc: 0.7608719357795954\n",
            "Batch: 8 Iteration: 1100 Loss: 0.508365313435947, Acc: 0.7612049097895633\n",
            "Validation Acc:  0.6233976361360715\n",
            "[0.2396623883482522, 0.39912948671902393, 0.4860566537034649, 0.5531334961105066, 0.6053237940652053, 0.6618075087099288, 0.7041821512804581, 0.7319068482580675, 0.7614087010829194] [2.5912630836134904, 1.7660571828943818, 1.3674436973675779, 1.100657033128026, 0.9151818058046844, 0.7505951292875817, 0.6259961534847269, 0.5766841898144427, 0.5084171392857209] [0.3171160944783171, 0.41244152285188473, 0.46552574900517374, 0.48516390543697174, 0.5100541515863217, 0.5569650545433753, 0.5995239234804413, 0.6171205418123522, 0.6233976361360715] [2.0804858059711653, 1.647256948615182, 1.4874171820430928, 1.3929380772967044, 1.3154117112775168, 1.1760504104145995, 1.1228540752653977, 1.137462615676556, 1.2936784791399738]\n",
            "Batch: 9 Iteration: 100 Loss: 0.4492352390103042, Acc: 0.7767053114046913\n",
            "Batch: 9 Iteration: 200 Loss: 0.4536728298151866, Acc: 0.7787441473070146\n",
            "Batch: 9 Iteration: 300 Loss: 0.4670069479818145, Acc: 0.773273393808033\n",
            "Batch: 9 Iteration: 400 Loss: 0.4741709550167434, Acc: 0.7714814947441753\n",
            "Batch: 9 Iteration: 500 Loss: 0.46827729691099373, Acc: 0.7791107553115787\n",
            "Batch: 9 Iteration: 600 Loss: 0.46090567410651906, Acc: 0.7849603653960994\n",
            "Batch: 9 Iteration: 700 Loss: 0.45944210073844133, Acc: 0.7851863115378032\n",
            "Batch: 9 Iteration: 800 Loss: 0.45754859124484937, Acc: 0.7870895184851658\n",
            "Batch: 9 Iteration: 900 Loss: 0.4480530513372893, Acc: 0.7896153016466527\n",
            "Batch: 9 Iteration: 1000 Loss: 0.44167538250563665, Acc: 0.7929149353522879\n",
            "Batch: 9 Iteration: 1100 Loss: 0.4401894424580546, Acc: 0.7922790134453772\n",
            "Validation Acc:  0.661070790968947\n",
            "[0.2396623883482522, 0.39912948671902393, 0.4860566537034649, 0.5531334961105066, 0.6053237940652053, 0.6618075087099288, 0.7041821512804581, 0.7319068482580675, 0.7614087010829194, 0.7922416889321825] [2.5912630836134904, 1.7660571828943818, 1.3674436973675779, 1.100657033128026, 0.9151818058046844, 0.7505951292875817, 0.6259961534847269, 0.5766841898144427, 0.5084171392857209, 0.43855510440564155] [0.3171160944783171, 0.41244152285188473, 0.46552574900517374, 0.48516390543697174, 0.5100541515863217, 0.5569650545433753, 0.5995239234804413, 0.6171205418123522, 0.6233976361360715, 0.661070790968947] [2.0804858059711653, 1.647256948615182, 1.4874171820430928, 1.3929380772967044, 1.3154117112775168, 1.1760504104145995, 1.1228540752653977, 1.137462615676556, 1.2936784791399738, 1.1094552977201975]\n",
            "Batch: 10 Iteration: 100 Loss: 0.40388777983840557, Acc: 0.8063898624966298\n",
            "Batch: 10 Iteration: 200 Loss: 0.36155421999748794, Acc: 0.8228745308720222\n",
            "Batch: 10 Iteration: 300 Loss: 0.3795458598683278, Acc: 0.814624530607512\n",
            "Batch: 10 Iteration: 400 Loss: 0.37886986647499726, Acc: 0.8116220624188187\n",
            "Batch: 10 Iteration: 500 Loss: 0.38091018617339434, Acc: 0.817173681000305\n",
            "Batch: 10 Iteration: 600 Loss: 0.3736171532779311, Acc: 0.8195080124555403\n",
            "Batch: 10 Iteration: 700 Loss: 0.37189066303910556, Acc: 0.8176401388367867\n",
            "Batch: 10 Iteration: 800 Loss: 0.375651145057127, Acc: 0.8167040865805805\n",
            "Batch: 10 Iteration: 900 Loss: 0.3754724470681847, Acc: 0.8171755231178544\n",
            "Batch: 10 Iteration: 1000 Loss: 0.37468994577793635, Acc: 0.8191601186317534\n",
            "Batch: 10 Iteration: 1100 Loss: 0.37712022102612536, Acc: 0.8186220503728538\n",
            "Validation Acc:  0.6422818635600274\n",
            "[0.2396623883482522, 0.39912948671902393, 0.4860566537034649, 0.5531334961105066, 0.6053237940652053, 0.6618075087099288, 0.7041821512804581, 0.7319068482580675, 0.7614087010829194, 0.7922416889321825, 0.8186272576806705] [2.5912630836134904, 1.7660571828943818, 1.3674436973675779, 1.100657033128026, 0.9151818058046844, 0.7505951292875817, 0.6259961534847269, 0.5766841898144427, 0.5084171392857209, 0.43855510440564155, 0.3765046072028731] [0.3171160944783171, 0.41244152285188473, 0.46552574900517374, 0.48516390543697174, 0.5100541515863217, 0.5569650545433753, 0.5995239234804413, 0.6171205418123522, 0.6233976361360715, 0.661070790968947, 0.6422818635600274] [2.0804858059711653, 1.647256948615182, 1.4874171820430928, 1.3929380772967044, 1.3154117112775168, 1.1760504104145995, 1.1228540752653977, 1.137462615676556, 1.2936784791399738, 1.1094552977201975, 1.1289352471685064]\n",
            "Batch: 11 Iteration: 100 Loss: 0.3359133573737927, Acc: 0.8433405230520356\n",
            "Batch: 11 Iteration: 200 Loss: 0.3412665050511714, Acc: 0.8472376616438311\n",
            "Batch: 11 Iteration: 300 Loss: 0.3537115280524207, Acc: 0.8413052010025599\n",
            "Batch: 11 Iteration: 400 Loss: 0.3611034636461409, Acc: 0.8332427250205904\n",
            "Batch: 11 Iteration: 500 Loss: 0.3646430147071369, Acc: 0.8358302836230558\n",
            "Batch: 11 Iteration: 600 Loss: 0.35810276816928915, Acc: 0.8413902179719551\n",
            "Batch: 11 Iteration: 700 Loss: 0.35564027707275403, Acc: 0.8394635917644874\n",
            "Batch: 11 Iteration: 800 Loss: 0.37146091751390486, Acc: 0.8347259517629465\n",
            "Batch: 11 Iteration: 900 Loss: 0.3705200381166974, Acc: 0.833309124901129\n",
            "Batch: 11 Iteration: 1000 Loss: 0.3679024897919735, Acc: 0.8346439969619316\n",
            "Batch: 11 Iteration: 1100 Loss: 0.3705142203406219, Acc: 0.8286227536008992\n",
            "Validation Acc:  0.6752133132003227\n",
            "[0.2396623883482522, 0.39912948671902393, 0.4860566537034649, 0.5531334961105066, 0.6053237940652053, 0.6618075087099288, 0.7041821512804581, 0.7319068482580675, 0.7614087010829194, 0.7922416889321825, 0.8186272576806705, 0.8313625643053318] [2.5912630836134904, 1.7660571828943818, 1.3674436973675779, 1.100657033128026, 0.9151818058046844, 0.7505951292875817, 0.6259961534847269, 0.5766841898144427, 0.5084171392857209, 0.43855510440564155, 0.3765046072028731, 0.36410495756787636] [0.3171160944783171, 0.41244152285188473, 0.46552574900517374, 0.48516390543697174, 0.5100541515863217, 0.5569650545433753, 0.5995239234804413, 0.6171205418123522, 0.6233976361360715, 0.661070790968947, 0.6422818635600274, 0.6752133132003227] [2.0804858059711653, 1.647256948615182, 1.4874171820430928, 1.3929380772967044, 1.3154117112775168, 1.1760504104145995, 1.1228540752653977, 1.137462615676556, 1.2936784791399738, 1.1094552977201975, 1.1289352471685064, 1.0713524856630152]\n",
            "Batch: 12 Iteration: 100 Loss: 0.4034882382932119, Acc: 0.8220342410353195\n",
            "Batch: 12 Iteration: 200 Loss: 0.350092904799385, Acc: 0.8421805367056349\n",
            "Batch: 12 Iteration: 300 Loss: 0.33939811861685787, Acc: 0.8434347488694443\n",
            "Batch: 12 Iteration: 400 Loss: 0.32459016947017516, Acc: 0.8464514637854308\n",
            "Batch: 12 Iteration: 500 Loss: 0.314297043683473, Acc: 0.8511372877909932\n",
            "Batch: 12 Iteration: 600 Loss: 0.2975841051510846, Acc: 0.8592832501949458\n",
            "Batch: 12 Iteration: 700 Loss: 0.3018032126977674, Acc: 0.8561252808968303\n",
            "Batch: 12 Iteration: 800 Loss: 0.30970738295036426, Acc: 0.8562953062796185\n",
            "Batch: 12 Iteration: 900 Loss: 0.3135074117834706, Acc: 0.8562083842669159\n",
            "Batch: 12 Iteration: 1000 Loss: 0.3229960840365966, Acc: 0.8534385583629934\n",
            "Batch: 12 Iteration: 1100 Loss: 0.326518627708111, Acc: 0.8523329733339355\n",
            "Validation Acc:  0.634869640168321\n",
            "[0.2396623883482522, 0.39912948671902393, 0.4860566537034649, 0.5531334961105066, 0.6053237940652053, 0.6618075087099288, 0.7041821512804581, 0.7319068482580675, 0.7614087010829194, 0.7922416889321825, 0.8186272576806705, 0.8313625643053318, 0.8523393978665603] [2.5912630836134904, 1.7660571828943818, 1.3674436973675779, 1.100657033128026, 0.9151818058046844, 0.7505951292875817, 0.6259961534847269, 0.5766841898144427, 0.5084171392857209, 0.43855510440564155, 0.3765046072028731, 0.36410495756787636, 0.33115178134041395] [0.3171160944783171, 0.41244152285188473, 0.46552574900517374, 0.48516390543697174, 0.5100541515863217, 0.5569650545433753, 0.5995239234804413, 0.6171205418123522, 0.6233976361360715, 0.661070790968947, 0.6422818635600274, 0.6752133132003227, 0.634869640168321] [2.0804858059711653, 1.647256948615182, 1.4874171820430928, 1.3929380772967044, 1.3154117112775168, 1.1760504104145995, 1.1228540752653977, 1.137462615676556, 1.2936784791399738, 1.1094552977201975, 1.1289352471685064, 1.0713524856630152, 1.2377388416956918]\n",
            "Batch: 13 Iteration: 100 Loss: 0.35919755407609044, Acc: 0.8318819088703154\n",
            "Batch: 13 Iteration: 200 Loss: 0.3458053048350848, Acc: 0.8435576409374927\n",
            "Batch: 13 Iteration: 300 Loss: 0.337778358363236, Acc: 0.8421057326090641\n",
            "Batch: 13 Iteration: 400 Loss: 0.3564341280469671, Acc: 0.8446398400953178\n",
            "Batch: 13 Iteration: 500 Loss: 0.38242876741010695, Acc: 0.8396373386194979\n",
            "Batch: 13 Iteration: 600 Loss: 0.3734222585653576, Acc: 0.840288236399186\n",
            "Batch: 13 Iteration: 700 Loss: 0.3624728011163617, Acc: 0.8424473807850179\n",
            "Batch: 13 Iteration: 800 Loss: 0.34988296332739993, Acc: 0.8465012040926927\n",
            "Batch: 13 Iteration: 900 Loss: 0.3409765819716267, Acc: 0.850716905155677\n",
            "Batch: 13 Iteration: 1000 Loss: 0.3357754296741914, Acc: 0.8533035190113851\n",
            "Batch: 13 Iteration: 1100 Loss: 0.33144970304131594, Acc: 0.8546713495174884\n",
            "Validation Acc:  0.6654122360983751\n",
            "[0.2396623883482522, 0.39912948671902393, 0.4860566537034649, 0.5531334961105066, 0.6053237940652053, 0.6618075087099288, 0.7041821512804581, 0.7319068482580675, 0.7614087010829194, 0.7922416889321825, 0.8186272576806705, 0.8313625643053318, 0.8523393978665603, 0.8561340385826662] [2.5912630836134904, 1.7660571828943818, 1.3674436973675779, 1.100657033128026, 0.9151818058046844, 0.7505951292875817, 0.6259961534847269, 0.5766841898144427, 0.5084171392857209, 0.43855510440564155, 0.3765046072028731, 0.36410495756787636, 0.33115178134041395, 0.32703591012429806] [0.3171160944783171, 0.41244152285188473, 0.46552574900517374, 0.48516390543697174, 0.5100541515863217, 0.5569650545433753, 0.5995239234804413, 0.6171205418123522, 0.6233976361360715, 0.661070790968947, 0.6422818635600274, 0.6752133132003227, 0.634869640168321, 0.6654122360983751] [2.0804858059711653, 1.647256948615182, 1.4874171820430928, 1.3929380772967044, 1.3154117112775168, 1.1760504104145995, 1.1228540752653977, 1.137462615676556, 1.2936784791399738, 1.1094552977201975, 1.1289352471685064, 1.0713524856630152, 1.2377388416956918, 1.1024547027223042]\n",
            "Batch: 14 Iteration: 100 Loss: 0.22188673260621727, Acc: 0.8897209490428687\n",
            "Batch: 14 Iteration: 200 Loss: 0.21670742684975267, Acc: 0.8950513842386273\n",
            "Batch: 14 Iteration: 300 Loss: 0.25740677323192357, Acc: 0.8834836281251951\n",
            "Batch: 14 Iteration: 400 Loss: 0.2509489799005678, Acc: 0.8800031251729425\n",
            "Batch: 14 Iteration: 500 Loss: 0.26271598746301605, Acc: 0.8770674494256379\n",
            "Batch: 14 Iteration: 600 Loss: 0.25888870682838994, Acc: 0.8812913964625342\n",
            "Batch: 14 Iteration: 700 Loss: 0.26254657145789156, Acc: 0.8759373850462728\n",
            "Batch: 14 Iteration: 800 Loss: 0.2619951438778662, Acc: 0.8733628617880879\n",
            "Batch: 14 Iteration: 900 Loss: 0.2690212305569245, Acc: 0.8724584741497088\n",
            "Batch: 14 Iteration: 1000 Loss: 0.27097645226027817, Acc: 0.8729634734403589\n",
            "Batch: 14 Iteration: 1100 Loss: 0.275995170858223, Acc: 0.871200067235462\n",
            "Validation Acc:  0.6564222680132912\n",
            "[0.2396623883482522, 0.39912948671902393, 0.4860566537034649, 0.5531334961105066, 0.6053237940652053, 0.6618075087099288, 0.7041821512804581, 0.7319068482580675, 0.7614087010829194, 0.7922416889321825, 0.8186272576806705, 0.8313625643053318, 0.8523393978665603, 0.8561340385826662, 0.8683204784838916] [2.5912630836134904, 1.7660571828943818, 1.3674436973675779, 1.100657033128026, 0.9151818058046844, 0.7505951292875817, 0.6259961534847269, 0.5766841898144427, 0.5084171392857209, 0.43855510440564155, 0.3765046072028731, 0.36410495756787636, 0.33115178134041395, 0.32703591012429806, 0.2821303247424299] [0.3171160944783171, 0.41244152285188473, 0.46552574900517374, 0.48516390543697174, 0.5100541515863217, 0.5569650545433753, 0.5995239234804413, 0.6171205418123522, 0.6233976361360715, 0.661070790968947, 0.6422818635600274, 0.6752133132003227, 0.634869640168321, 0.6654122360983751, 0.6564222680132912] [2.0804858059711653, 1.647256948615182, 1.4874171820430928, 1.3929380772967044, 1.3154117112775168, 1.1760504104145995, 1.1228540752653977, 1.137462615676556, 1.2936784791399738, 1.1094552977201975, 1.1289352471685064, 1.0713524856630152, 1.2377388416956918, 1.1024547027223042, 1.1168256637385938]\n",
            "Batch: 15 Iteration: 100 Loss: 0.3714881266257726, Acc: 0.808647883526557\n",
            "Batch: 15 Iteration: 200 Loss: 0.32670155543251894, Acc: 0.8301350225811911\n",
            "Batch: 15 Iteration: 300 Loss: 0.307041717095611, Acc: 0.8428572065683729\n",
            "Batch: 15 Iteration: 400 Loss: 0.2878766441968037, Acc: 0.8464384422315037\n",
            "Batch: 15 Iteration: 500 Loss: 0.2918406052594073, Acc: 0.8502236454203518\n",
            "Batch: 15 Iteration: 600 Loss: 0.2835750933480449, Acc: 0.8573469111456515\n",
            "Batch: 15 Iteration: 700 Loss: 0.27959478796892134, Acc: 0.8573863574282415\n",
            "Batch: 15 Iteration: 800 Loss: 0.27123190496728056, Acc: 0.8633682812238961\n",
            "Batch: 15 Iteration: 900 Loss: 0.2693068085378036, Acc: 0.8661386352196735\n",
            "Batch: 15 Iteration: 1000 Loss: 0.26688508208841083, Acc: 0.8673755070315561\n",
            "Batch: 15 Iteration: 1100 Loss: 0.2667380830445009, Acc: 0.8683036824565185\n",
            "Validation Acc:  0.6886315553174231\n",
            "[0.2396623883482522, 0.39912948671902393, 0.4860566537034649, 0.5531334961105066, 0.6053237940652053, 0.6618075087099288, 0.7041821512804581, 0.7319068482580675, 0.7614087010829194, 0.7922416889321825, 0.8186272576806705, 0.8313625643053318, 0.8523393978665603, 0.8561340385826662, 0.8683204784838916, 0.8683055578350991] [2.5912630836134904, 1.7660571828943818, 1.3674436973675779, 1.100657033128026, 0.9151818058046844, 0.7505951292875817, 0.6259961534847269, 0.5766841898144427, 0.5084171392857209, 0.43855510440564155, 0.3765046072028731, 0.36410495756787636, 0.33115178134041395, 0.32703591012429806, 0.2821303247424299, 0.26589477126717237] [0.3171160944783171, 0.41244152285188473, 0.46552574900517374, 0.48516390543697174, 0.5100541515863217, 0.5569650545433753, 0.5995239234804413, 0.6171205418123522, 0.6233976361360715, 0.661070790968947, 0.6422818635600274, 0.6752133132003227, 0.634869640168321, 0.6654122360983751, 0.6564222680132912, 0.6886315553174231] [2.0804858059711653, 1.647256948615182, 1.4874171820430928, 1.3929380772967044, 1.3154117112775168, 1.1760504104145995, 1.1228540752653977, 1.137462615676556, 1.2936784791399738, 1.1094552977201975, 1.1289352471685064, 1.0713524856630152, 1.2377388416956918, 1.1024547027223042, 1.1168256637385938, 1.0505832444528782]\n",
            "Batch: 16 Iteration: 100 Loss: 0.20336433110991492, Acc: 0.9065651118899973\n",
            "Batch: 16 Iteration: 200 Loss: 0.21182200908311644, Acc: 0.9078037012579764\n",
            "Batch: 16 Iteration: 300 Loss: 0.27358049029406784, Acc: 0.8939061482611294\n",
            "Batch: 16 Iteration: 400 Loss: 0.2687507387716323, Acc: 0.887412389357484\n",
            "Batch: 16 Iteration: 500 Loss: 0.2777495788668748, Acc: 0.8831846599573041\n",
            "Batch: 16 Iteration: 600 Loss: 0.27942191227455626, Acc: 0.8809083266777145\n",
            "Batch: 16 Iteration: 700 Loss: 0.2995430548515703, Acc: 0.8723726813491789\n",
            "Batch: 16 Iteration: 800 Loss: 0.30199245873696784, Acc: 0.8733889402761875\n",
            "Batch: 16 Iteration: 900 Loss: 0.31921372586424696, Acc: 0.868776155892716\n",
            "Batch: 16 Iteration: 1000 Loss: 0.32795879984743076, Acc: 0.8652674983738219\n",
            "Batch: 16 Iteration: 1100 Loss: 0.33047308671052716, Acc: 0.8627887737360905\n",
            "Validation Acc:  0.6534891453282874\n",
            "[0.2396623883482522, 0.39912948671902393, 0.4860566537034649, 0.5531334961105066, 0.6053237940652053, 0.6618075087099288, 0.7041821512804581, 0.7319068482580675, 0.7614087010829194, 0.7922416889321825, 0.8186272576806705, 0.8313625643053318, 0.8523393978665603, 0.8561340385826662, 0.8683204784838916, 0.8683055578350991, 0.861993057635269] [2.5912630836134904, 1.7660571828943818, 1.3674436973675779, 1.100657033128026, 0.9151818058046844, 0.7505951292875817, 0.6259961534847269, 0.5766841898144427, 0.5084171392857209, 0.43855510440564155, 0.3765046072028731, 0.36410495756787636, 0.33115178134041395, 0.32703591012429806, 0.2821303247424299, 0.26589477126717237, 0.3284839481220344] [0.3171160944783171, 0.41244152285188473, 0.46552574900517374, 0.48516390543697174, 0.5100541515863217, 0.5569650545433753, 0.5995239234804413, 0.6171205418123522, 0.6233976361360715, 0.661070790968947, 0.6422818635600274, 0.6752133132003227, 0.634869640168321, 0.6654122360983751, 0.6564222680132912, 0.6886315553174231, 0.6534891453282874] [2.0804858059711653, 1.647256948615182, 1.4874171820430928, 1.3929380772967044, 1.3154117112775168, 1.1760504104145995, 1.1228540752653977, 1.137462615676556, 1.2936784791399738, 1.1094552977201975, 1.1289352471685064, 1.0713524856630152, 1.2377388416956918, 1.1024547027223042, 1.1168256637385938, 1.0505832444528782, 1.1326688307593418]\n"
          ],
          "name": "stdout"
        },
        {
          "output_type": "error",
          "ename": "KeyboardInterrupt",
          "evalue": "ignored",
          "traceback": [
            "\u001b[0;31m---------------------------------------------------------------------------\u001b[0m",
            "\u001b[0;31mKeyboardInterrupt\u001b[0m                         Traceback (most recent call last)",
            "\u001b[0;32m<ipython-input-65-d2e52c1c65af>\u001b[0m in \u001b[0;36m<module>\u001b[0;34m()\u001b[0m\n\u001b[1;32m     12\u001b[0m \u001b[0mvl\u001b[0m \u001b[0;34m=\u001b[0m \u001b[0;34m[\u001b[0m\u001b[0;34m]\u001b[0m\u001b[0;34m\u001b[0m\u001b[0;34m\u001b[0m\u001b[0m\n\u001b[1;32m     13\u001b[0m \u001b[0;32mfor\u001b[0m \u001b[0mb\u001b[0m \u001b[0;32min\u001b[0m \u001b[0mrange\u001b[0m\u001b[0;34m(\u001b[0m\u001b[0mbatch\u001b[0m\u001b[0;34m)\u001b[0m\u001b[0;34m:\u001b[0m\u001b[0;34m\u001b[0m\u001b[0;34m\u001b[0m\u001b[0m\n\u001b[0;32m---> 14\u001b[0;31m     \u001b[0macc\u001b[0m\u001b[0;34m,\u001b[0m \u001b[0mloss\u001b[0m \u001b[0;34m=\u001b[0m \u001b[0mtrain\u001b[0m\u001b[0;34m(\u001b[0m\u001b[0mmodel\u001b[0m\u001b[0;34m,\u001b[0m \u001b[0mX_train\u001b[0m\u001b[0;34m,\u001b[0m \u001b[0my_train\u001b[0m\u001b[0;34m,\u001b[0m \u001b[0mb\u001b[0m\u001b[0;34m)\u001b[0m\u001b[0;34m\u001b[0m\u001b[0;34m\u001b[0m\u001b[0m\n\u001b[0m\u001b[1;32m     15\u001b[0m     \u001b[0mtacc\u001b[0m\u001b[0;34m.\u001b[0m\u001b[0mappend\u001b[0m\u001b[0;34m(\u001b[0m\u001b[0macc\u001b[0m\u001b[0;34m)\u001b[0m\u001b[0;34m\u001b[0m\u001b[0;34m\u001b[0m\u001b[0m\n\u001b[1;32m     16\u001b[0m     \u001b[0mtl\u001b[0m\u001b[0;34m.\u001b[0m\u001b[0mappend\u001b[0m\u001b[0;34m(\u001b[0m\u001b[0mloss\u001b[0m\u001b[0;34m)\u001b[0m\u001b[0;34m\u001b[0m\u001b[0;34m\u001b[0m\u001b[0m\n",
            "\u001b[0;32m<ipython-input-63-5f70ddf22f1b>\u001b[0m in \u001b[0;36mtrain\u001b[0;34m(model, xtrain, ytrain, batch)\u001b[0m\n\u001b[1;32m      9\u001b[0m         \u001b[0my\u001b[0m \u001b[0;34m=\u001b[0m \u001b[0my\u001b[0m\u001b[0;34m.\u001b[0m\u001b[0mto\u001b[0m\u001b[0;34m(\u001b[0m\u001b[0mdevice\u001b[0m\u001b[0;34m)\u001b[0m\u001b[0;34m\u001b[0m\u001b[0;34m\u001b[0m\u001b[0m\n\u001b[1;32m     10\u001b[0m         \u001b[0mx\u001b[0m \u001b[0;34m=\u001b[0m \u001b[0mtorch\u001b[0m\u001b[0;34m.\u001b[0m\u001b[0munsqueeze\u001b[0m\u001b[0;34m(\u001b[0m\u001b[0mx\u001b[0m\u001b[0;34m,\u001b[0m \u001b[0;36m0\u001b[0m\u001b[0;34m)\u001b[0m\u001b[0;34m\u001b[0m\u001b[0;34m\u001b[0m\u001b[0m\n\u001b[0;32m---> 11\u001b[0;31m         \u001b[0mout\u001b[0m \u001b[0;34m=\u001b[0m \u001b[0mmodel\u001b[0m\u001b[0;34m(\u001b[0m\u001b[0mx\u001b[0m\u001b[0;34m)\u001b[0m\u001b[0;34m\u001b[0m\u001b[0;34m\u001b[0m\u001b[0m\n\u001b[0m\u001b[1;32m     12\u001b[0m         \u001b[0mout\u001b[0m \u001b[0;34m=\u001b[0m \u001b[0mtorch\u001b[0m\u001b[0;34m.\u001b[0m\u001b[0msqueeze\u001b[0m\u001b[0;34m(\u001b[0m\u001b[0mout\u001b[0m\u001b[0;34m,\u001b[0m \u001b[0;36m0\u001b[0m\u001b[0;34m)\u001b[0m\u001b[0;34m\u001b[0m\u001b[0;34m\u001b[0m\u001b[0m\n\u001b[1;32m     13\u001b[0m         \u001b[0mpred\u001b[0m \u001b[0;34m=\u001b[0m \u001b[0mtorch\u001b[0m\u001b[0;34m.\u001b[0m\u001b[0margmax\u001b[0m\u001b[0;34m(\u001b[0m\u001b[0mout\u001b[0m\u001b[0;34m,\u001b[0m \u001b[0mdim\u001b[0m\u001b[0;34m=\u001b[0m\u001b[0;36m1\u001b[0m\u001b[0;34m)\u001b[0m\u001b[0;34m\u001b[0m\u001b[0;34m\u001b[0m\u001b[0m\n",
            "\u001b[0;32m/usr/local/lib/python3.6/dist-packages/torch/nn/modules/module.py\u001b[0m in \u001b[0;36m__call__\u001b[0;34m(self, *input, **kwargs)\u001b[0m\n\u001b[1;32m    530\u001b[0m             \u001b[0mresult\u001b[0m \u001b[0;34m=\u001b[0m \u001b[0mself\u001b[0m\u001b[0;34m.\u001b[0m\u001b[0m_slow_forward\u001b[0m\u001b[0;34m(\u001b[0m\u001b[0;34m*\u001b[0m\u001b[0minput\u001b[0m\u001b[0;34m,\u001b[0m \u001b[0;34m**\u001b[0m\u001b[0mkwargs\u001b[0m\u001b[0;34m)\u001b[0m\u001b[0;34m\u001b[0m\u001b[0;34m\u001b[0m\u001b[0m\n\u001b[1;32m    531\u001b[0m         \u001b[0;32melse\u001b[0m\u001b[0;34m:\u001b[0m\u001b[0;34m\u001b[0m\u001b[0;34m\u001b[0m\u001b[0m\n\u001b[0;32m--> 532\u001b[0;31m             \u001b[0mresult\u001b[0m \u001b[0;34m=\u001b[0m \u001b[0mself\u001b[0m\u001b[0;34m.\u001b[0m\u001b[0mforward\u001b[0m\u001b[0;34m(\u001b[0m\u001b[0;34m*\u001b[0m\u001b[0minput\u001b[0m\u001b[0;34m,\u001b[0m \u001b[0;34m**\u001b[0m\u001b[0mkwargs\u001b[0m\u001b[0;34m)\u001b[0m\u001b[0;34m\u001b[0m\u001b[0;34m\u001b[0m\u001b[0m\n\u001b[0m\u001b[1;32m    533\u001b[0m         \u001b[0;32mfor\u001b[0m \u001b[0mhook\u001b[0m \u001b[0;32min\u001b[0m \u001b[0mself\u001b[0m\u001b[0;34m.\u001b[0m\u001b[0m_forward_hooks\u001b[0m\u001b[0;34m.\u001b[0m\u001b[0mvalues\u001b[0m\u001b[0;34m(\u001b[0m\u001b[0;34m)\u001b[0m\u001b[0;34m:\u001b[0m\u001b[0;34m\u001b[0m\u001b[0;34m\u001b[0m\u001b[0m\n\u001b[1;32m    534\u001b[0m             \u001b[0mhook_result\u001b[0m \u001b[0;34m=\u001b[0m \u001b[0mhook\u001b[0m\u001b[0;34m(\u001b[0m\u001b[0mself\u001b[0m\u001b[0;34m,\u001b[0m \u001b[0minput\u001b[0m\u001b[0;34m,\u001b[0m \u001b[0mresult\u001b[0m\u001b[0;34m)\u001b[0m\u001b[0;34m\u001b[0m\u001b[0;34m\u001b[0m\u001b[0m\n",
            "\u001b[0;32m<ipython-input-62-29cbf5782da6>\u001b[0m in \u001b[0;36mforward\u001b[0;34m(self, data_feature)\u001b[0m\n\u001b[1;32m     17\u001b[0m         \u001b[0mself\u001b[0m\u001b[0;34m.\u001b[0m\u001b[0mlinear3\u001b[0m \u001b[0;34m=\u001b[0m \u001b[0mnn\u001b[0m\u001b[0;34m.\u001b[0m\u001b[0mLinear\u001b[0m\u001b[0;34m(\u001b[0m\u001b[0;36m128\u001b[0m\u001b[0;34m,\u001b[0m \u001b[0moutput_size\u001b[0m\u001b[0;34m)\u001b[0m\u001b[0;34m\u001b[0m\u001b[0;34m\u001b[0m\u001b[0m\n\u001b[1;32m     18\u001b[0m     \u001b[0;32mdef\u001b[0m \u001b[0mforward\u001b[0m\u001b[0;34m(\u001b[0m\u001b[0mself\u001b[0m\u001b[0;34m,\u001b[0m \u001b[0mdata_feature\u001b[0m\u001b[0;34m)\u001b[0m\u001b[0;34m:\u001b[0m\u001b[0;34m\u001b[0m\u001b[0;34m\u001b[0m\u001b[0m\n\u001b[0;32m---> 19\u001b[0;31m         \u001b[0moutput\u001b[0m\u001b[0;34m,\u001b[0m \u001b[0m_\u001b[0m \u001b[0;34m=\u001b[0m \u001b[0mself\u001b[0m\u001b[0;34m.\u001b[0m\u001b[0mlstm\u001b[0m\u001b[0;34m(\u001b[0m\u001b[0mdata_feature\u001b[0m\u001b[0;34m)\u001b[0m\u001b[0;34m\u001b[0m\u001b[0;34m\u001b[0m\u001b[0m\n\u001b[0m\u001b[1;32m     20\u001b[0m         \u001b[0;31m# combined = torch.cat((output, data_feature), dim=2)\u001b[0m\u001b[0;34m\u001b[0m\u001b[0;34m\u001b[0m\u001b[0;34m\u001b[0m\u001b[0m\n\u001b[1;32m     21\u001b[0m         \u001b[0mo\u001b[0m \u001b[0;34m=\u001b[0m \u001b[0mself\u001b[0m\u001b[0;34m.\u001b[0m\u001b[0mnorm\u001b[0m\u001b[0;34m(\u001b[0m\u001b[0moutput\u001b[0m\u001b[0;34m)\u001b[0m\u001b[0;34m\u001b[0m\u001b[0;34m\u001b[0m\u001b[0m\n",
            "\u001b[0;32m/usr/local/lib/python3.6/dist-packages/torch/nn/modules/module.py\u001b[0m in \u001b[0;36m__call__\u001b[0;34m(self, *input, **kwargs)\u001b[0m\n\u001b[1;32m    530\u001b[0m             \u001b[0mresult\u001b[0m \u001b[0;34m=\u001b[0m \u001b[0mself\u001b[0m\u001b[0;34m.\u001b[0m\u001b[0m_slow_forward\u001b[0m\u001b[0;34m(\u001b[0m\u001b[0;34m*\u001b[0m\u001b[0minput\u001b[0m\u001b[0;34m,\u001b[0m \u001b[0;34m**\u001b[0m\u001b[0mkwargs\u001b[0m\u001b[0;34m)\u001b[0m\u001b[0;34m\u001b[0m\u001b[0;34m\u001b[0m\u001b[0m\n\u001b[1;32m    531\u001b[0m         \u001b[0;32melse\u001b[0m\u001b[0;34m:\u001b[0m\u001b[0;34m\u001b[0m\u001b[0;34m\u001b[0m\u001b[0m\n\u001b[0;32m--> 532\u001b[0;31m             \u001b[0mresult\u001b[0m \u001b[0;34m=\u001b[0m \u001b[0mself\u001b[0m\u001b[0;34m.\u001b[0m\u001b[0mforward\u001b[0m\u001b[0;34m(\u001b[0m\u001b[0;34m*\u001b[0m\u001b[0minput\u001b[0m\u001b[0;34m,\u001b[0m \u001b[0;34m**\u001b[0m\u001b[0mkwargs\u001b[0m\u001b[0;34m)\u001b[0m\u001b[0;34m\u001b[0m\u001b[0;34m\u001b[0m\u001b[0m\n\u001b[0m\u001b[1;32m    533\u001b[0m         \u001b[0;32mfor\u001b[0m \u001b[0mhook\u001b[0m \u001b[0;32min\u001b[0m \u001b[0mself\u001b[0m\u001b[0;34m.\u001b[0m\u001b[0m_forward_hooks\u001b[0m\u001b[0;34m.\u001b[0m\u001b[0mvalues\u001b[0m\u001b[0;34m(\u001b[0m\u001b[0;34m)\u001b[0m\u001b[0;34m:\u001b[0m\u001b[0;34m\u001b[0m\u001b[0;34m\u001b[0m\u001b[0m\n\u001b[1;32m    534\u001b[0m             \u001b[0mhook_result\u001b[0m \u001b[0;34m=\u001b[0m \u001b[0mhook\u001b[0m\u001b[0;34m(\u001b[0m\u001b[0mself\u001b[0m\u001b[0;34m,\u001b[0m \u001b[0minput\u001b[0m\u001b[0;34m,\u001b[0m \u001b[0mresult\u001b[0m\u001b[0;34m)\u001b[0m\u001b[0;34m\u001b[0m\u001b[0;34m\u001b[0m\u001b[0m\n",
            "\u001b[0;32m/usr/local/lib/python3.6/dist-packages/torch/nn/modules/rnn.py\u001b[0m in \u001b[0;36mforward\u001b[0;34m(self, input, hx)\u001b[0m\n\u001b[1;32m    557\u001b[0m         \u001b[0;32mif\u001b[0m \u001b[0mbatch_sizes\u001b[0m \u001b[0;32mis\u001b[0m \u001b[0;32mNone\u001b[0m\u001b[0;34m:\u001b[0m\u001b[0;34m\u001b[0m\u001b[0;34m\u001b[0m\u001b[0m\n\u001b[1;32m    558\u001b[0m             result = _VF.lstm(input, hx, self._flat_weights, self.bias, self.num_layers,\n\u001b[0;32m--> 559\u001b[0;31m                               self.dropout, self.training, self.bidirectional, self.batch_first)\n\u001b[0m\u001b[1;32m    560\u001b[0m         \u001b[0;32melse\u001b[0m\u001b[0;34m:\u001b[0m\u001b[0;34m\u001b[0m\u001b[0;34m\u001b[0m\u001b[0m\n\u001b[1;32m    561\u001b[0m             result = _VF.lstm(input, batch_sizes, hx, self._flat_weights, self.bias,\n",
            "\u001b[0;31mKeyboardInterrupt\u001b[0m: "
          ]
        }
      ]
    },
    {
      "cell_type": "code",
      "metadata": {
        "id": "3PraXilxHDNU",
        "colab_type": "code",
        "colab": {}
      },
      "source": [
        ""
      ],
      "execution_count": 0,
      "outputs": []
    },
    {
      "cell_type": "code",
      "metadata": {
        "id": "BEbn01GyocZ5",
        "colab_type": "code",
        "outputId": "f06bdea5-799d-422d-a251-5253c04ab168",
        "colab": {
          "base_uri": "https://localhost:8080/",
          "height": 551
        }
      },
      "source": [
        "import matplotlib.pyplot as plt\n",
        "\n",
        "plt.plot(tacc, label='Train Acc')\n",
        "plt.plot(vacc, label='Validation Acc')\n",
        "plt.xticks([1,5,10,15,20])\n",
        "plt.legend()\n",
        "plt.show()\n",
        "\n",
        "plt.plot(tl, label='Train Loss')\n",
        "plt.plot(vl, label='Validation Loss')\n",
        "plt.xticks([1,5,10,15,20])\n",
        "plt.legend()\n",
        "print(tacc)"
      ],
      "execution_count": 66,
      "outputs": [
        {
          "output_type": "display_data",
          "data": {
            "image/png": "[encoded data removed]",
            "text/plain": [
              "<Figure size 432x288 with 1 Axes>"
            ]
          },
          "metadata": {
            "tags": [],
            "needs_background": "light"
          }
        },
        {
          "output_type": "stream",
          "text": [
            "[0.2396623883482522, 0.39912948671902393, 0.4860566537034649, 0.5531334961105066, 0.6053237940652053, 0.6618075087099288, 0.7041821512804581, 0.7319068482580675, 0.7614087010829194, 0.7922416889321825, 0.8186272576806705, 0.8313625643053318, 0.8523393978665603, 0.8561340385826662, 0.8683204784838916, 0.8683055578350991, 0.861993057635269]\n"
          ],
          "name": "stdout"
        },
        {
          "output_type": "display_data",
          "data": {
            "image/png": "[encoded data removed]",
            "text/plain": [
              "<Figure size 432x288 with 1 Axes>"
            ]
          },
          "metadata": {
            "tags": [],
            "needs_background": "light"
          }
        }
      ]
    },
    {
      "cell_type": "code",
      "metadata": {
        "id": "zHbEX0gQMzYJ",
        "colab_type": "code",
        "colab": {}
      },
      "source": [
        "# function to generate prediction for test data\n",
        "def gen_out(model, data, seg):\n",
        "    ans = []\n",
        "    for i in range(len(data)):\n",
        "        x = data[i].float().to(device)\n",
        "        x = torch.unsqueeze(x, 0)\n",
        "        out = model(x)\n",
        "        out = torch.squeeze(out, 0)\n",
        "        pred = torch.argmax(out, dim=1)\n",
        "        for j in range(1, len(seg[i])):\n",
        "            start = seg[i][j-1]\n",
        "            end = seg[i][j]\n",
        "            tmp = pred[start:end]\n",
        "            cor = torch.bincount(tmp).argmax().item()+1\n",
        "            ans.append(cor)\n",
        "    return ans"
      ],
      "execution_count": 0,
      "outputs": []
    },
    {
      "cell_type": "code",
      "metadata": {
        "id": "np2nqkQEMzYL",
        "colab_type": "code",
        "colab": {}
      },
      "source": [
        "model = MyModel(400, 200, 47, 3).to(device)\n",
        "# load saved best model\n",
        "model.load_state_dict(torch.load('drive/My Drive/Colab Notebooks/best_model'))\n",
        "model.eval()\n",
        "ans = gen_out(model, one_seg_test, test_data_length)"
      ],
      "execution_count": 0,
      "outputs": []
    },
    {
      "cell_type": "code",
      "metadata": {
        "id": "Q1D5DWMB8qy7",
        "colab_type": "code",
        "colab": {}
      },
      "source": [
        "# post processing to average from many model predictions\n",
        "# input: all_ans is list of ans calculated from gen_out\n",
        "def avg_pred(all_ans):\n",
        "    num_pred = len(all_ans[0])\n",
        "    ans = []\n",
        "    for i in range(num_pred):\n",
        "        tmp = []\n",
        "        for j in range(len(all_ans)):\n",
        "            tmp.append(all_ans[j][i])\n",
        "        counts = np.bincount(tmp)\n",
        "        ans.append(np.argmax(counts))\n",
        "    return ans"
      ],
      "execution_count": 0,
      "outputs": []
    },
    {
      "cell_type": "code",
      "metadata": {
        "id": "AA_k4d-XMzYN",
        "colab_type": "code",
        "colab": {}
      },
      "source": [
        "import csv\n",
        "with open('submission.csv', 'w') as file:\n",
        "    wr = csv.writer(file)\n",
        "    wr.writerow(['Id', 'Category'])\n",
        "    for i in range(len(ans)):\n",
        "        wr.writerow([i, ans[i]])"
      ],
      "execution_count": 0,
      "outputs": []
    }
  ]
}